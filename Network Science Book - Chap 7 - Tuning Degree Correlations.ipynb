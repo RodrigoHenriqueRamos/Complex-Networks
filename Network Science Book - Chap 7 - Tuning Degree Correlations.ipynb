{
 "cells": [
  {
   "cell_type": "markdown",
   "metadata": {},
   "source": [
    "# Tuning Degree Correlations\n",
    "Step 1: Link Selection\n",
    "Choose at random two links. Label the four nodes at the end of these two links with a, b, c, and d such that their degrees are ordered as ka≥kb≥kc≥kd <br>\n",
    "Step 2: Rewiring\n",
    "Break the selected links and rewire them to form new pairs. Depending on the desired degree correlations the rewiring is done in two ways:<br>\n",
    "Step 2A: Assortative\n",
    "By pairing the two highest degree nodes (a with b) and the two lowest degree nodes (c/ with d), we connect nodes with comparable degrees, enhancing the network’s assortative nature.<br>\n",
    "Step 2B: Disassortative\n",
    "By pairing the highest and the lowest degree nodes (a with d and b with c), we connect nodes with different degrees, enhancing the network’s disassortative nature."
   ]
  },
  {
   "cell_type": "markdown",
   "metadata": {},
   "source": [
    "###### The main ideia is that rewiring the edges we keep the same degree distribution, but inscrease or decrease de assortativity"
   ]
  },
  {
   "cell_type": "code",
   "execution_count": 1,
   "metadata": {
    "ExecuteTime": {
     "end_time": "2021-03-04T13:35:10.646078Z",
     "start_time": "2021-03-04T13:35:08.892093Z"
    }
   },
   "outputs": [],
   "source": [
    "import pandas as pd\n",
    "import networkx as nx\n",
    "import matplotlib.pyplot as plt\n",
    "import statistics as st\n",
    "import numpy as np\n",
    "import random as rd\n",
    "import itertools "
   ]
  },
  {
   "cell_type": "markdown",
   "metadata": {},
   "source": [
    "# Functions"
   ]
  },
  {
   "cell_type": "code",
   "execution_count": 2,
   "metadata": {
    "ExecuteTime": {
     "end_time": "2021-03-04T13:35:10.669100Z",
     "start_time": "2021-03-04T13:35:10.649081Z"
    }
   },
   "outputs": [],
   "source": [
    "#Avarage Neighbors Degree\n",
    "def averageNeighborsDegree(G,node):\n",
    "    neighbors=list(nx.neighbors(G,node))\n",
    "    if(len(neighbors)==0):\n",
    "        return 0 \n",
    "    else:\n",
    "        return sum([nx.degree(G,n) for n in neighbors])/len(neighbors)\n",
    "\n",
    "def averageNeighborsDegreeByDegree(G,ylim=(0,0),xlim=(0,0)):\n",
    "    #Get only the Largest Connect Component\n",
    "    #G = nx.subgraph(G,max(nx.connected_components(G),key=len))\n",
    "    nodeWithDegreeK={}\n",
    "    #Get the nodes with degree 'k'\n",
    "    for node,k in dict(G.degree).items():\n",
    "        if k not in nodeWithDegreeK:\n",
    "            nodeWithDegreeK[k]=[node]\n",
    "        else:\n",
    "            nodeWithDegreeK[k].append(node)\n",
    "    #Get the average neighbors degree for every node with degree'k'\n",
    "    for k in nodeWithDegreeK:\n",
    "        means=0\n",
    "        for node in nodeWithDegreeK[k]:\n",
    "            means+=averageNeighborsDegree(G,node)\n",
    "        nodeWithDegreeK[k]=round(means/len(nodeWithDegreeK[k]),2)\n",
    "\n",
    "    #Plot the distribution\n",
    "    plt.figure(figsize=(6,6))\n",
    "    plt.loglog(list(nodeWithDegreeK.keys()),list(nodeWithDegreeK.values()),'o',color='rebeccapurple')\n",
    "    #check the scale (custom ou default)\n",
    "    if ylim==(0,0) or xlim==(0,0):\n",
    "        ylim=plt.gca().get_ylim()\n",
    "        xlim=plt.gca().get_xlim()\n",
    "\n",
    "    #Plot the line for a random prediction\n",
    "    degree = list(dict(G.degree).values())\n",
    "    neutralNetwork=round((st.variance(degree) + st.mean(degree)**2)/st.mean(degree),2)\n",
    "    randomPrediction=[neutralNetwork for x in range(int(xlim[1])+2)]    \n",
    "    \n",
    "    plt.loglog(range(int(xlim[1])+2),randomPrediction,'-',color='black')\n",
    "    plt.xlim(xlim)\n",
    "    plt.ylim(ylim)\n",
    "    plt.xlabel('K',fontsize=16)\n",
    "    plt.ylabel(r'$K_n$'r'$_n$(K)',rotation = 0,fontsize=16)\n",
    "    plt.title(G.name+'\\n'+'Assortativity Coefficient: '+str(round(nx.assortativity.degree_assortativity_coefficient(G),2)))\n",
    "    plt.show()\n",
    "    \n",
    "def numberOfDegrees(G):\n",
    "    numberOfDegreeK={}\n",
    "    #Get the nodes with degree 'k'\n",
    "    for node,k in dict(G.degree).items():\n",
    "        if k not in numberOfDegreeK:\n",
    "            numberOfDegreeK[k]=1\n",
    "        else:\n",
    "            numberOfDegreeK[k]+=1\n",
    "    \n",
    "    ordem = sorted(numberOfDegreeK.items())\n",
    "    ordem = sorted(ordem, key=lambda x:x[1],reverse=True)\n",
    "    plt.plot(sorted(dict(G.degree).values()),'.')\n",
    "    plt.title('Distribuição de grau')\n",
    "    plt.show()\n"
   ]
  },
  {
   "cell_type": "code",
   "execution_count": 203,
   "metadata": {
    "ExecuteTime": {
     "end_time": "2021-03-04T17:48:35.139135Z",
     "start_time": "2021-03-04T17:48:35.128135Z"
    }
   },
   "outputs": [],
   "source": [
    "def rewireIncreaseAssortativity(G_original,loops=10): \n",
    "    #Create a graph without edges, but with all nodes\n",
    "    G = nx.Graph()\n",
    "    for n in list(G_original.nodes):\n",
    "        G.add_node(n)\n",
    "\n",
    "    degreeOriginal = dict(G_original.degree)\n",
    "    nodesByDegreeDesc = sorted(degreeOriginal.items(),key=lambda x:x[1],reverse=True)\n",
    "\n",
    "    #Only the node label with degree > 0, sorted by degree Desc\n",
    "    hubFirst = [t[0] for t in nodesByDegreeDesc if(t[1])>0]\n",
    "\n",
    "    #The algorithm heart! Keep track of how many neighbors each node can add\n",
    "    remainingDegreePerNode = dict(nodesByDegreeDesc)\n",
    "\n",
    "    # remainingNodes=[]\n",
    "\n",
    "    #Start from the biggest to the smallest, removing it from the list\n",
    "    while(len(hubFirst)>0):\n",
    "        n1 = hubFirst.pop(0)\n",
    "        edgesToAdd = remainingDegreePerNode[n1]\n",
    "        firstAux=0\n",
    "        #This node may have new neighbors?\n",
    "        while(edgesToAdd>0): \n",
    "            #this will only happen when n1 have degree remaing, but no available neighbor\n",
    "            #force the next node OR end\n",
    "            if(firstAux > len(hubFirst) or len(hubFirst)==0):\n",
    "                edgesToAdd=0 \n",
    "            else:\n",
    "                #get the smallest available node to become n1 neighbor\n",
    "                n2 = hubFirst[firstAux]#the last elem \n",
    "                if(remainingDegreePerNode[n2]>0):\n",
    "                    G.add_edge(n1,n2)\n",
    "                    #n2 has one less available neighbor\n",
    "                    remainingDegreePerNode[n2]-=1\n",
    "                    #n1 has one less available neighbor\n",
    "                    remainingDegreePerNode[n1]-=1\n",
    "                    edgesToAdd-=1\n",
    "                    #need to change n2. move the 'pointer' one to the left\n",
    "                    firstAux+=1\n",
    "                else:\n",
    "                    hubFirst.remove(n2)\n",
    "\n",
    "    print(\"Remaining Degree Per Node:\")                \n",
    "    print([t for t in remainingDegreePerNode.items() if(t[1]>0)])\n",
    "\n",
    "    #     nx.draw_kamada_kawai(G,with_labels=1)\n",
    "    #     plt.show()\n",
    "    return G"
   ]
  },
  {
   "cell_type": "code",
   "execution_count": 205,
   "metadata": {
    "ExecuteTime": {
     "end_time": "2021-03-04T17:48:41.553611Z",
     "start_time": "2021-03-04T17:48:41.543612Z"
    },
    "scrolled": false
   },
   "outputs": [],
   "source": [
    "def rewireDecreaseAssortativity(G_original):\n",
    "    #Create a graph without edges, but with all nodes\n",
    "    G = nx.Graph()\n",
    "    for n in list(G_original.nodes):\n",
    "        G.add_node(n)\n",
    "\n",
    "    degreeOriginal = dict(G_original.degree)\n",
    "    nodesByDegreeDesc = sorted(degreeOriginal.items(),key=lambda x:x[1],reverse=True)\n",
    "\n",
    "    #Only the node label with degree > 0, sorted by degree Desc\n",
    "    hubFirst = [t[0] for t in nodesByDegreeDesc if(t[1])>0]\n",
    "\n",
    "    #The algorithm heart! Keep track of how many neighbors each node can add\n",
    "    remainingDegreePerNode = dict(nodesByDegreeDesc)\n",
    "\n",
    "    #Start from the biggest to the smallest, removing it from the list\n",
    "    while(len(hubFirst)>0):\n",
    "        n1 = hubFirst.pop(0)\n",
    "        edgesToAdd = remainingDegreePerNode[n1]\n",
    "        lastAux=-1\n",
    "        #This node may have new neighbors?\n",
    "        while(edgesToAdd>0): \n",
    "            #this will only happen when n1 have degree remaing, but no available neighbor\n",
    "            #force the next node OR end\n",
    "            if(abs(lastAux) > len(hubFirst) or len(hubFirst)==0):\n",
    "                edgesToAdd=0 \n",
    "            else:\n",
    "                #get the smallest available node to become n1 neighbor\n",
    "                n2 = hubFirst[lastAux]#the last elem \n",
    "                if(remainingDegreePerNode[n2]>0):\n",
    "                    G.add_edge(n1,n2)\n",
    "                    #n2 has one less available neighbor\n",
    "                    remainingDegreePerNode[n2]-=1\n",
    "                    #n1 has one less available neighbor\n",
    "                    remainingDegreePerNode[n1]-=1\n",
    "                    edgesToAdd-=1\n",
    "                    #need to change n2. move the 'pointer' one to the left\n",
    "                    lastAux-=1\n",
    "                else:\n",
    "                    hubFirst.remove(n2)\n",
    "\n",
    "    #     nx.draw_kamada_kawai(G,with_labels=1)\n",
    "    #     plt.show()\n",
    "\n",
    "    print(\"Remaining Degree Per Node:\")                \n",
    "    print([t for t in remainingDegreePerNode.items() if(t[1]>0)])      \n",
    "    return G              "
   ]
  },
  {
   "cell_type": "markdown",
   "metadata": {},
   "source": [
    "# INPUT"
   ]
  },
  {
   "cell_type": "code",
   "execution_count": 207,
   "metadata": {
    "ExecuteTime": {
     "end_time": "2021-03-04T17:55:35.622593Z",
     "start_time": "2021-03-04T17:55:27.857960Z"
    }
   },
   "outputs": [],
   "source": [
    "metabolic=nx.read_edgelist('datasets/NetworkScienceBook_metabolic.edgelist.txt')\n",
    "collaboration=nx.read_edgelist('datasets/NetworkScienceBook_collaboration.edgelist.txt')\n",
    "powergrid=nx.read_edgelist('datasets/NetworkScienceBook_powergrid.edgelist.txt')\n",
    "reactome=nx.from_pandas_edgelist(pd.read_csv('datasets/ProteinProteinInteractionNetwork_reactomeFI2019.tsv',sep='\\t'),source='Gene1',target='Gene2')\n",
    "\n",
    "barabasi = nx.barabasi_albert_graph(10000,3)\n",
    "\n",
    "testGraph = nx.Graph()\n",
    "start=0\n",
    "end=3\n",
    "for i in range(1,10):\n",
    "    start=end\n",
    "    end+=i\n",
    "    testGraph = nx.compose(testGraph,nx.star_graph(range(start,end)))\n",
    "    testGraph.add_edge(1,start)    \n",
    "testGraph.remove_node(end-1)\n",
    "\n",
    "barbell = nx.barbell_graph(5,4)\n",
    "barbell.remove_node(10)\n",
    "\n",
    "random = nx.erdos_renyi_graph(10000,0.0006)"
   ]
  },
  {
   "cell_type": "markdown",
   "metadata": {},
   "source": [
    "# Rewiring"
   ]
  },
  {
   "cell_type": "code",
   "execution_count": 237,
   "metadata": {
    "ExecuteTime": {
     "end_time": "2021-03-04T19:53:06.644267Z",
     "start_time": "2021-03-04T19:53:04.600150Z"
    },
    "cell_style": "center"
   },
   "outputs": [
    {
     "name": "stdout",
     "output_type": "stream",
     "text": [
      "Name: \n",
      "Type: Graph\n",
      "Number of nodes: 23133\n",
      "Number of edges: 93439\n",
      "Average degree:   8.0784\n"
     ]
    },
    {
     "data": {
      "image/png": "[encoded data removed]",
      "text/plain": [
       "<Figure size 432x432 with 1 Axes>"
      ]
     },
     "metadata": {
      "needs_background": "light"
     },
     "output_type": "display_data"
    },
    {
     "data": {
      "image/png": "[encoded data removed]",
      "text/plain": [
       "<Figure size 432x288 with 1 Axes>"
      ]
     },
     "metadata": {
      "needs_background": "light"
     },
     "output_type": "display_data"
    },
    {
     "name": "stdout",
     "output_type": "stream",
     "text": [
      "CCs 567\n"
     ]
    }
   ],
   "source": [
    "original = collaboration\n",
    "\n",
    "print(nx.info(original))\n",
    "averageNeighborsDegreeByDegree(original)\n",
    "numberOfDegrees(original)\n",
    "# nx.draw_kamada_kawai(original,with_labels=1)\n",
    "# plt.show()   \n",
    "print('CCs',len(list(nx.connected_components(original))))"
   ]
  },
  {
   "cell_type": "code",
   "execution_count": 238,
   "metadata": {
    "ExecuteTime": {
     "end_time": "2021-03-04T19:53:18.005227Z",
     "start_time": "2021-03-04T19:53:08.992371Z"
    },
    "cell_style": "split"
   },
   "outputs": [
    {
     "name": "stdout",
     "output_type": "stream",
     "text": [
      "Remaining Degree Per Node:\n",
      "[('639', 8), ('13940', 7), ('12152', 7), ('14121', 4)]\n",
      "Name: \n",
      "Type: Graph\n",
      "Number of nodes: 23133\n",
      "Number of edges: 93426\n",
      "Average degree:   8.0773\n"
     ]
    },
    {
     "data": {
      "image/png": "[encoded data removed]",
      "text/plain": [
       "<Figure size 432x432 with 1 Axes>"
      ]
     },
     "metadata": {
      "needs_background": "light"
     },
     "output_type": "display_data"
    },
    {
     "data": {
      "image/png": "[encoded data removed]",
      "text/plain": [
       "<Figure size 432x288 with 1 Axes>"
      ]
     },
     "metadata": {
      "needs_background": "light"
     },
     "output_type": "display_data"
    },
    {
     "name": "stdout",
     "output_type": "stream",
     "text": [
      "CCs 31\n"
     ]
    }
   ],
   "source": [
    "G = rewireDecreaseAssortativity(original)\n",
    "print(nx.info(G))\n",
    "averageNeighborsDegreeByDegree(G)\n",
    "numberOfDegrees(G)\n",
    "# nx.draw_kamada_kawai(G,with_labels=1)\n",
    "# plt.show()\n",
    "print('CCs',len(list(nx.connected_components(G))))"
   ]
  },
  {
   "cell_type": "code",
   "execution_count": 239,
   "metadata": {
    "ExecuteTime": {
     "end_time": "2021-03-04T19:53:20.172228Z",
     "start_time": "2021-03-04T19:53:18.027244Z"
    },
    "cell_style": "split"
   },
   "outputs": [
    {
     "name": "stdout",
     "output_type": "stream",
     "text": [
      "Remaining Degree Per Node:\n",
      "[]\n",
      "Name: \n",
      "Type: Graph\n",
      "Number of nodes: 23133\n",
      "Number of edges: 93439\n",
      "Average degree:   8.0784\n"
     ]
    },
    {
     "data": {
      "image/png": "[encoded data removed]",
      "text/plain": [
       "<Figure size 432x432 with 1 Axes>"
      ]
     },
     "metadata": {
      "needs_background": "light"
     },
     "output_type": "display_data"
    },
    {
     "data": {
      "image/png": "[encoded data removed]",
      "text/plain": [
       "<Figure size 432x288 with 1 Axes>"
      ]
     },
     "metadata": {
      "needs_background": "light"
     },
     "output_type": "display_data"
    },
    {
     "name": "stdout",
     "output_type": "stream",
     "text": [
      "CCs 1431\n"
     ]
    }
   ],
   "source": [
    "G = rewireIncreaseAssortativity(original)\n",
    "print(nx.info(G))\n",
    "averageNeighborsDegreeByDegree(G)\n",
    "numberOfDegrees(G)\n",
    "# nx.draw_kamada_kawai(G,with_labels=1)\n",
    "# plt.show()\n",
    "print('CCs',len(list(nx.connected_components(G))))"
   ]
  }
 ],
 "metadata": {
  "kernelspec": {
   "display_name": "Python 3",
   "language": "python",
   "name": "python3"
  },
  "language_info": {
   "codemirror_mode": {
    "name": "ipython",
    "version": 3
   },
   "file_extension": ".py",
   "mimetype": "text/x-python",
   "name": "python",
   "nbconvert_exporter": "python",
   "pygments_lexer": "ipython3",
   "version": "3.7.7"
  },
  "toc": {
   "base_numbering": 1,
   "nav_menu": {},
   "number_sections": true,
   "sideBar": true,
   "skip_h1_title": false,
   "title_cell": "Table of Contents",
   "title_sidebar": "Contents",
   "toc_cell": false,
   "toc_position": {
    "height": "calc(100% - 180px)",
    "left": "10px",
    "top": "150px",
    "width": "165px"
   },
   "toc_section_display": true,
   "toc_window_display": true
  },
  "varInspector": {
   "cols": {
    "lenName": 16,
    "lenType": 16,
    "lenVar": 40
   },
   "kernels_config": {
    "python": {
     "delete_cmd_postfix": "",
     "delete_cmd_prefix": "del ",
     "library": "var_list.py",
     "varRefreshCmd": "print(var_dic_list())"
    },
    "r": {
     "delete_cmd_postfix": ") ",
     "delete_cmd_prefix": "rm(",
     "library": "var_list.r",
     "varRefreshCmd": "cat(var_dic_list()) "
    }
   },
   "types_to_exclude": [
    "module",
    "function",
    "builtin_function_or_method",
    "instance",
    "_Feature"
   ],
   "window_display": false
  }
 },
 "nbformat": 4,
 "nbformat_minor": 4
}
