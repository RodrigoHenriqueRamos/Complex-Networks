{
 "cells": [
  {
   "cell_type": "markdown",
   "metadata": {},
   "source": [
    "<h1 style=\"text-align:center\"> CRIANDO GRAFOS/REDES E FUNÇÕES BÁSICAS - PARTE 2 </h1>\n",
    "<p> Nesse primeiro contato iremos receber como entrada \"listas de arestas\", transformá-las em data frames do Pandas e depois em redes. </p>  \n",
    "<p>Vamos criar redes usando o pacote NetworkX, que será a nossa referência, e depois criaremos manualmente usando Matriz,Lista de Aresta e Lista de Adjacência. Para cada uma dessas soluções iremos implementar funções básicas como: grau, existência de aresta, densidade e etc..</p>  \n",
    "  \n",
    "<br>  \n",
    "  \n",
    "<p style=\"font-size:10px; font-weight:bold\">Material feito por Rodrigo Henrique Ramos - ramos@ifsp.edu.br</p>    "
   ]
  },
  {
   "cell_type": "code",
   "execution_count": 2,
   "metadata": {
    "ExecuteTime": {
     "end_time": "2021-02-11T13:50:14.073077Z",
     "start_time": "2021-02-11T13:50:14.052434Z"
    }
   },
   "outputs": [
    {
     "data": {
      "text/html": [
       "<div>\n",
       "<style scoped>\n",
       "    .dataframe tbody tr th:only-of-type {\n",
       "        vertical-align: middle;\n",
       "    }\n",
       "\n",
       "    .dataframe tbody tr th {\n",
       "        vertical-align: top;\n",
       "    }\n",
       "\n",
       "    .dataframe thead th {\n",
       "        text-align: right;\n",
       "    }\n",
       "</style>\n",
       "<table border=\"1\" class=\"dataframe\">\n",
       "  <thead>\n",
       "    <tr style=\"text-align: right;\">\n",
       "      <th></th>\n",
       "      <th>FROM</th>\n",
       "      <th>TO</th>\n",
       "    </tr>\n",
       "  </thead>\n",
       "  <tbody>\n",
       "    <tr>\n",
       "      <th>0</th>\n",
       "      <td>A</td>\n",
       "      <td>B</td>\n",
       "    </tr>\n",
       "    <tr>\n",
       "      <th>1</th>\n",
       "      <td>A</td>\n",
       "      <td>C</td>\n",
       "    </tr>\n",
       "    <tr>\n",
       "      <th>2</th>\n",
       "      <td>A</td>\n",
       "      <td>D</td>\n",
       "    </tr>\n",
       "    <tr>\n",
       "      <th>3</th>\n",
       "      <td>A</td>\n",
       "      <td>E</td>\n",
       "    </tr>\n",
       "    <tr>\n",
       "      <th>4</th>\n",
       "      <td>B</td>\n",
       "      <td>C</td>\n",
       "    </tr>\n",
       "  </tbody>\n",
       "</table>\n",
       "</div>"
      ],
      "text/plain": [
       "  FROM TO\n",
       "0    A  B\n",
       "1    A  C\n",
       "2    A  D\n",
       "3    A  E\n",
       "4    B  C"
      ]
     },
     "execution_count": 2,
     "metadata": {},
     "output_type": "execute_result"
    }
   ],
   "source": [
    "#Importação das bibliotecas/pacote e dos datasets\n",
    "import pandas as pd #Dataframes\n",
    "import networkx as nx #redes\n",
    "import matplotlib.pyplot as plt #gráficos\n",
    "import warnings # Para não mostrar warnings. Deixa o notebook mais limpo\n",
    "warnings.filterwarnings('ignore')\n",
    "\n",
    "#Vou criar um dicionário com todos os \"inputs\". Cada arquivo é uma lista de aresta, que irei transformar em dataframe\n",
    "listaAresta = {}\n",
    "listaAresta[\"rede1\"] = pd.read_csv(\"datasets/rede1.tsv\",sep=\"\t\") #tsv = Tab Separed Value, por isso o \t\n",
    "listaAresta[\"rede2\"] = pd.read_csv(\"datasets/rede2.tsv\",sep=\"\t\")\n",
    "listaAresta[\"rede3\"] = pd.read_csv(\"datasets/rede3.tsv\",sep=\"\t\")\n",
    "listaAresta[\"rede4\"] = pd.read_csv(\"datasets/rede4.tsv\",sep=\"\t\")\n",
    "#mostro o formato da lista de aresta referente a quarta rede. Mas só as 5 primeiras linhas\n",
    "listaAresta[\"rede4\"][:5]"
   ]
  },
  {
   "cell_type": "markdown",
   "metadata": {},
   "source": [
    "<h1 style=\"text-align:center\">PROGRAMANDO MANUALMENTE</h1>\n",
    "<p>\n",
    "    O NetworkX (NX) é uma maravilha. Cria/Amazena a rede sozinho e tem uma tonelada de métodos (funções) prontas para trabalharmos. O que é ótimo para produtividade e abstração<br>\n",
    "    Mas é importante saber programar tudo isso manualmente. Inicialmente iremos armazenar a rede nas 3 formas vistas e replicar o que foi feito pelo NX: Exibir o grau de cada um e plotar a distribuição, descobrir se existe uma aresta entre X e Y\n",
    "</p>\n",
    "<hr>\n",
    "<p>\n",
    "    O importante é entender que existem diferentes Estruturas de Dados para armazenar uma Grafo e que cada estrutura necessita de algoritmos diferentes para realizar a mesma coisa. Isso abre margem para uma discussão de Complexidade de Algoritmos, porém não farei isso aqui.\n",
    "</p>"
   ]
  },
  {
   "cell_type": "markdown",
   "metadata": {},
   "source": [
    "<h2>Armazenando em Tabela - Funções</h2>"
   ]
  },
  {
   "cell_type": "code",
   "execution_count": 3,
   "metadata": {
    "ExecuteTime": {
     "end_time": "2021-02-11T13:51:45.476319Z",
     "start_time": "2021-02-11T13:51:45.469313Z"
    }
   },
   "outputs": [
    {
     "data": {
      "text/html": [
       "<div>\n",
       "<style scoped>\n",
       "    .dataframe tbody tr th:only-of-type {\n",
       "        vertical-align: middle;\n",
       "    }\n",
       "\n",
       "    .dataframe tbody tr th {\n",
       "        vertical-align: top;\n",
       "    }\n",
       "\n",
       "    .dataframe thead th {\n",
       "        text-align: right;\n",
       "    }\n",
       "</style>\n",
       "<table border=\"1\" class=\"dataframe\">\n",
       "  <thead>\n",
       "    <tr style=\"text-align: right;\">\n",
       "      <th></th>\n",
       "      <th>FROM</th>\n",
       "      <th>TO</th>\n",
       "    </tr>\n",
       "  </thead>\n",
       "  <tbody>\n",
       "    <tr>\n",
       "      <th>0</th>\n",
       "      <td>A</td>\n",
       "      <td>B</td>\n",
       "    </tr>\n",
       "    <tr>\n",
       "      <th>1</th>\n",
       "      <td>B</td>\n",
       "      <td>C</td>\n",
       "    </tr>\n",
       "    <tr>\n",
       "      <th>2</th>\n",
       "      <td>C</td>\n",
       "      <td>D</td>\n",
       "    </tr>\n",
       "    <tr>\n",
       "      <th>3</th>\n",
       "      <td>D</td>\n",
       "      <td>E</td>\n",
       "    </tr>\n",
       "  </tbody>\n",
       "</table>\n",
       "</div>"
      ],
      "text/plain": [
       "  FROM TO\n",
       "0    A  B\n",
       "1    B  C\n",
       "2    C  D\n",
       "3    D  E"
      ]
     },
     "execution_count": 3,
     "metadata": {},
     "output_type": "execute_result"
    }
   ],
   "source": [
    "#Abaixo faço uma função que itera sobre um dataframe e retorna os valores de cada linha\n",
    "#Estou usando um método do pandas chamado iterrows(), no nosso caso serve perfeitamente, porém é contra indicado para conjuntos grande: https://stackoverflow.com/questions/16476924/how-to-iterate-over-rows-in-a-dataframe-in-pandas \n",
    "#Todo dataframe tem uma \"coluna\" extra que é o indice de cada linha. Tipo uma chave primária em tabelas do banco de dados.\n",
    "#Veja abaixo o formato do dataframe como o indice aparece como uma coluna sem nome\n",
    "listaAresta[\"rede1\"]"
   ]
  },
  {
   "cell_type": "code",
   "execution_count": 4,
   "metadata": {
    "ExecuteTime": {
     "end_time": "2021-02-11T13:52:00.629888Z",
     "start_time": "2021-02-11T13:52:00.621882Z"
    }
   },
   "outputs": [],
   "source": [
    "#Recebe uma Lista de Aresta armazenada em um data frame e retornar uma matriz e uma lookUpTable\n",
    "def deListaArestaParaMatriz(pandasListaAres):\n",
    "    # A lista de aresta tem duas colunas FROM e TO. Vou criar uma lista para cada uma\n",
    "    listaFrom =[]\n",
    "    listaTo =[]\n",
    "    # separo o retorno de iterrows() em indice e o resto da linha e acesso cada valor pelo nome da coluna\n",
    "    for index, row in pandasListaAres.iterrows():\n",
    "        listaFrom.append(row['FROM'])\n",
    "        listaTo.append(row['TO'])\n",
    "    # Para criar uma tabela eu preciso colocar todos os vertices nas linhas e nas colunas\n",
    "    # Tem vertice que só aparece em FROM (ex: A) e vertice que só aparece em TO (ex:E)\n",
    "    # Preciso juntar os elementos das duas listas sem colocar elementos repetidos\n",
    "    # Para isso usarei o SET, que é uma lista sem repetição\n",
    "    todosVerticesSemRepeticao = set(listaFrom + listaTo)\n",
    "    # Agora transformo o SET em LIST para pode acessar os indices :) e ordeno, pq o SET bagunça a ordem original\n",
    "    todosVerticesSemRepeticao = sorted(list(todosVerticesSemRepeticao))\n",
    "    #print(todosVerticesSemRepeticao) #Descomente para ver como fica\n",
    "    \n",
    "    #Agora que sei qual são todos os vertices, crio uma matriz to tamanho desse conjunto\n",
    "    matriz=[]\n",
    "    for i in range(len(todosVerticesSemRepeticao)):\n",
    "        linha=[]\n",
    "        for j in range(len(todosVerticesSemRepeticao)):\n",
    "            linha.append(0)\n",
    "        matriz.append(linha) \n",
    "        \n",
    "    #até agora só tenho uma matriz cheia de zeros\n",
    "    #return matriz #Descomente para ver\n",
    "    \n",
    "    #LookUpTable \"transforma\" o nome do vertice em um indice da matriz\n",
    "    nomeToIndice=lookUpTable(todosVerticesSemRepeticao)\n",
    "        \n",
    "    #Finalmente, percorro simultaneamente listaFrom e listaTo e, com o uso da lookUp table, marco 1 na matriz qdo tiver aresta\n",
    "    for i in range(len(listaFrom)):\n",
    "        matriz[nomeToIndice[listaFrom[i]]][nomeToIndice[listaTo[i]]]=1    \n",
    "        matriz[nomeToIndice[listaTo[i]]][nomeToIndice[listaFrom[i]]]=1 \n",
    "    \n",
    "    #A Matriz e a LookUp table tem que trabalhar em conjunto. Uma não funciona sem a outra. \n",
    "    #Por isso preciso retornar as duas. Pra n ter q fazer um objeto, retorno uma lista.\n",
    "    retorno = [matriz,nomeToIndice]\n",
    "    return retorno\n",
    "        "
   ]
  },
  {
   "cell_type": "code",
   "execution_count": 5,
   "metadata": {
    "ExecuteTime": {
     "end_time": "2021-02-11T13:52:03.067095Z",
     "start_time": "2021-02-11T13:52:03.062102Z"
    }
   },
   "outputs": [],
   "source": [
    "#A matriz é acessada por indice, não por nome/chave. A lista de aresta só tem o nome dos vertices. Então vou criar uma\n",
    "#LookUp Table, que é um dicionário, com o nome do vertice como chave e o indice dele na tabela como valor\n",
    "#LookUpTable \"transforma\" o nome do vertice em um indice da matriz\n",
    "def lookUpTable(listaOrdenadaDeVertices):\n",
    "    lookUpTable = {}\n",
    "    indice=0\n",
    "    for nomeVertice in listaOrdenadaDeVertices:\n",
    "        lookUpTable[nomeVertice]= indice\n",
    "        indice+=1\n",
    "    return lookUpTable"
   ]
  },
  {
   "cell_type": "code",
   "execution_count": 6,
   "metadata": {
    "ExecuteTime": {
     "end_time": "2021-02-11T13:52:04.945101Z",
     "start_time": "2021-02-11T13:52:04.942098Z"
    }
   },
   "outputs": [],
   "source": [
    "def imprimeMatriz(matriz):\n",
    "    for linha in matriz:\n",
    "        print(linha)"
   ]
  },
  {
   "cell_type": "code",
   "execution_count": 7,
   "metadata": {
    "ExecuteTime": {
     "end_time": "2021-02-11T13:52:06.933625Z",
     "start_time": "2021-02-11T13:52:06.928619Z"
    }
   },
   "outputs": [],
   "source": [
    "#Essa função poderia ter diversas saídas. Vou fazer igual o NX e retornar uma lista de tuplas\n",
    "def getGrauPorVerticeMatriz(matriz,lookUp):\n",
    "    #A chave de lookUp é o nome do vertice, e o valor dele o indice da matriz\n",
    "    retorno=[]\n",
    "    for key in lookUp:\n",
    "        #Pra pegar os vizinhos, só precisa percorrer as linhas ou colunas\n",
    "        linha = matriz[lookUp[key]]\n",
    "        #Linha vai ter 0 e vai ter 1. Me interessa qdo 1s ela tem\n",
    "        cont = 0\n",
    "        for valor in linha:\n",
    "            if valor > 0:\n",
    "                cont+=1\n",
    "        tupla = (key,cont)\n",
    "        retorno.append(tupla)\n",
    "    return retorno"
   ]
  },
  {
   "cell_type": "code",
   "execution_count": 8,
   "metadata": {
    "ExecuteTime": {
     "end_time": "2021-02-11T13:52:08.976222Z",
     "start_time": "2021-02-11T13:52:08.972219Z"
    }
   },
   "outputs": [],
   "source": [
    "#recebe uma lista de graus com tuplas (nomeVertice,grau) e retorna um scatterPlot\n",
    "def graficoGrauMatriz(listaDeGraus):\n",
    "    eixoX=[]\n",
    "    eixoY=[]\n",
    "    for item in listaDeGraus:\n",
    "        eixoX.append(item[0])\n",
    "        eixoY.append(item[1])\n",
    "    plt.scatter(eixoX,eixoY) \n",
    "    plt.show()"
   ]
  },
  {
   "cell_type": "code",
   "execution_count": 9,
   "metadata": {
    "ExecuteTime": {
     "end_time": "2021-02-11T13:52:19.556552Z",
     "start_time": "2021-02-11T13:52:19.551548Z"
    }
   },
   "outputs": [],
   "source": [
    "#É parecido com a função de grau, mas aqui vou associar o vertice com os nome de seus vizinhos\n",
    "def getVizinhosMatriz(matriz,lookUp):\n",
    "    #A chave de lookUp é o nome do vertice, e o valor dele o indice da matriz\n",
    "    retorno=[]\n",
    "    for key in lookUp:\n",
    "        #Pra pegar os vizinhos, só precisa percorrer as linhas ou colunas\n",
    "        linha = matriz[lookUp[key]]\n",
    "        #Linha vai ter 0 e vai ter 1. Me interessa qdo 1s ela tem\n",
    "        vizinhos = []\n",
    "        indice = 0\n",
    "        for valor in linha:\n",
    "            if valor > 0:\n",
    "                #Qdo o valor for maior que um, pego o indice que estou e vejo em looUp qual chave tem esse valor \n",
    "                for chave,value in lookUp.items():\n",
    "                    if value == indice:\n",
    "                        vizinhos.append(chave)\n",
    "            indice+=1\n",
    "        tupla = (key,vizinhos)\n",
    "        retorno.append(tupla)\n",
    "    return retorno"
   ]
  },
  {
   "cell_type": "code",
   "execution_count": 10,
   "metadata": {
    "ExecuteTime": {
     "end_time": "2021-02-11T13:52:22.188635Z",
     "start_time": "2021-02-11T13:52:22.184632Z"
    }
   },
   "outputs": [],
   "source": [
    "#retorna TRUE se v1 tiver aresta para v2\n",
    "def temArestaMatriz(matriz,lookUp,v1,v2):\n",
    "    #Vejam como que usando matriz e lookUpTable fica facil verificar aresta\n",
    "    if matriz[lookUp[v1]][lookUp[v2]]==1:\n",
    "        return True\n",
    "    else:\n",
    "        return False\n",
    "    \n",
    "    #Na verdade, eu poderia retornar só matriz[lookUp[v1]][lookUp[v2]], ai a função teria uma linha só"
   ]
  },
  {
   "cell_type": "markdown",
   "metadata": {},
   "source": [
    "<h2>Armazenando em Tabela - Main</h2>"
   ]
  },
  {
   "cell_type": "code",
   "execution_count": 13,
   "metadata": {
    "scrolled": false
   },
   "outputs": [
    {
     "name": "stdout",
     "output_type": "stream",
     "text": [
      "\n",
      "\n",
      "\n",
      "---- REDE1 ---------------------------\n",
      "[0, 1, 0, 0, 0]\n",
      "[1, 0, 1, 0, 0]\n",
      "[0, 1, 0, 1, 0]\n",
      "[0, 0, 1, 0, 1]\n",
      "[0, 0, 0, 1, 0]\n",
      "\n",
      "Graus:  [('A', 1), ('B', 2), ('C', 2), ('D', 2), ('E', 1)]\n"
     ]
    },
    {
     "data": {
      "image/png": "[encoded data removed]",
      "text/plain": [
       "<Figure size 432x288 with 1 Axes>"
      ]
     },
     "metadata": {
      "needs_background": "light"
     },
     "output_type": "display_data"
    },
    {
     "name": "stdout",
     "output_type": "stream",
     "text": [
      "\n",
      " Vizinhos de cada nó\n",
      "[('A', ['B']), ('B', ['A', 'C']), ('C', ['B', 'D']), ('D', ['C', 'E']), ('E', ['D'])]\n",
      "\n",
      " Verificação de aresta A-B e A-D\n",
      "True\n",
      "False\n",
      "\n",
      "\n",
      "\n",
      "---- REDE2 ---------------------------\n",
      "[0, 1, 1, 1, 0, 0, 0, 0, 0]\n",
      "[1, 0, 1, 1, 0, 0, 0, 0, 0]\n",
      "[1, 1, 0, 1, 0, 0, 0, 0, 0]\n",
      "[1, 1, 1, 0, 1, 0, 0, 0, 0]\n",
      "[0, 0, 0, 1, 0, 1, 0, 0, 0]\n",
      "[0, 0, 0, 0, 1, 0, 1, 0, 1]\n",
      "[0, 0, 0, 0, 0, 1, 0, 1, 0]\n",
      "[0, 0, 0, 0, 0, 0, 1, 0, 1]\n",
      "[0, 0, 0, 0, 0, 1, 0, 1, 0]\n",
      "\n",
      "Graus:  [('A', 3), ('B', 3), ('C', 3), ('D', 4), ('E', 2), ('F', 3), ('G', 2), ('H', 2), ('I', 2)]\n"
     ]
    },
    {
     "data": {
      "image/png": "[encoded data removed]",
      "text/plain": [
       "<Figure size 432x288 with 1 Axes>"
      ]
     },
     "metadata": {
      "needs_background": "light"
     },
     "output_type": "display_data"
    },
    {
     "name": "stdout",
     "output_type": "stream",
     "text": [
      "\n",
      " Vizinhos de cada nó\n",
      "[('A', ['B', 'C', 'D']), ('B', ['A', 'C', 'D']), ('C', ['A', 'B', 'D']), ('D', ['A', 'B', 'C', 'E']), ('E', ['D', 'F']), ('F', ['E', 'G', 'I']), ('G', ['F', 'H']), ('H', ['G', 'I']), ('I', ['F', 'H'])]\n",
      "\n",
      " Verificação de aresta A-B e A-D\n",
      "True\n",
      "True\n",
      "\n",
      "\n",
      "\n",
      "---- REDE3 ---------------------------\n",
      "[0, 1, 1, 0, 0, 0]\n",
      "[1, 0, 1, 0, 0, 0]\n",
      "[1, 1, 0, 0, 0, 0]\n",
      "[0, 0, 0, 0, 1, 1]\n",
      "[0, 0, 0, 1, 0, 1]\n",
      "[0, 0, 0, 1, 1, 0]\n",
      "\n",
      "Graus:  [('A', 2), ('B', 2), ('C', 2), ('D', 2), ('E', 2), ('F', 2)]\n"
     ]
    },
    {
     "data": {
      "image/png": "[encoded data removed]",
      "text/plain": [
       "<Figure size 432x288 with 1 Axes>"
      ]
     },
     "metadata": {
      "needs_background": "light"
     },
     "output_type": "display_data"
    },
    {
     "name": "stdout",
     "output_type": "stream",
     "text": [
      "\n",
      " Vizinhos de cada nó\n",
      "[('A', ['B', 'C']), ('B', ['A', 'C']), ('C', ['A', 'B']), ('D', ['E', 'F']), ('E', ['D', 'F']), ('F', ['D', 'E'])]\n",
      "\n",
      " Verificação de aresta A-B e A-D\n",
      "True\n",
      "False\n",
      "\n",
      "\n",
      "\n",
      "---- REDE4 ---------------------------\n",
      "[0, 1, 1, 1, 1]\n",
      "[1, 0, 1, 1, 1]\n",
      "[1, 1, 0, 1, 1]\n",
      "[1, 1, 1, 0, 1]\n",
      "[1, 1, 1, 1, 0]\n",
      "\n",
      "Graus:  [('A', 4), ('B', 4), ('C', 4), ('D', 4), ('E', 4)]\n"
     ]
    },
    {
     "data": {
      "image/png": "[encoded data removed]",
      "text/plain": [
       "<Figure size 432x288 with 1 Axes>"
      ]
     },
     "metadata": {
      "needs_background": "light"
     },
     "output_type": "display_data"
    },
    {
     "name": "stdout",
     "output_type": "stream",
     "text": [
      "\n",
      " Vizinhos de cada nó\n",
      "[('A', ['B', 'C', 'D', 'E']), ('B', ['A', 'C', 'D', 'E']), ('C', ['A', 'B', 'D', 'E']), ('D', ['A', 'B', 'C', 'E']), ('E', ['A', 'B', 'C', 'D'])]\n",
      "\n",
      " Verificação de aresta A-B e A-D\n",
      "True\n",
      "True\n"
     ]
    }
   ],
   "source": [
    "#Para Cada lista de aresta (pandas dataframe), chamo a função que cria uma Tabela de Adjacência \n",
    "#Armazena todas as matrizes em um dicionário\n",
    "listaRedesMatriz = {}\n",
    "for key in listaAresta:\n",
    "    #listaRedesMatriz[key] é uma lista com: [0] matriz, [1] lookupTable\n",
    "    listaRedesMatriz[key]=deListaArestaParaMatriz(listaAresta[key])\n",
    "    \n",
    "    print('\\n\\n\\n----',key.upper(),'---------------------------')    \n",
    "    imprimeMatriz(listaRedesMatriz[key][0])    \n",
    "    \n",
    "    graus = getGrauPorVerticeMatriz(listaRedesMatriz[key][0],listaRedesMatriz[key][1])\n",
    "    print('\\nGraus: ',graus)\n",
    "    \n",
    "    graficoGrauMatriz(graus)\n",
    "    \n",
    "    print(\"\\n Vizinhos de cada nó\")\n",
    "    vizinhos = getVizinhosMatriz(listaRedesMatriz[key][0],listaRedesMatriz[key][1])\n",
    "    print(vizinhos)\n",
    "    \n",
    "    print(\"\\n Verificação de aresta A-B e A-D\")\n",
    "    temAresta=temArestaMatriz(listaRedesMatriz[key][0],listaRedesMatriz[key][1],\"A\",\"B\")\n",
    "    print(temAresta)\n",
    "    temAresta=temArestaMatriz(listaRedesMatriz[key][0],listaRedesMatriz[key][1],\"A\",\"D\")\n",
    "    print(temAresta)"
   ]
  },
  {
   "cell_type": "markdown",
   "metadata": {},
   "source": [
    "<h2>Armazenando em Lista de Adjacencia - Funções</h2>"
   ]
  },
  {
   "cell_type": "code",
   "execution_count": 11,
   "metadata": {
    "ExecuteTime": {
     "end_time": "2021-02-11T13:53:50.844219Z",
     "start_time": "2021-02-11T13:53:50.837212Z"
    }
   },
   "outputs": [],
   "source": [
    "#Recebe uma Lista de Aresta armazenada em um data frame e retorna um lista de adjacência como dicionario\n",
    "def deListaArestaParaListaAdjacencia(pandasListaAres):\n",
    "    # A lista de aresta tem duas colunas FROM e TO. Vou criar uma lista para cada uma\n",
    "    listaFrom =[]\n",
    "    listaTo =[]\n",
    "    # separo o retorno de iterrows() em indice e o resto da linha e acesso cada valor pelo nome da coluna\n",
    "    for index, row in pandasListaAres.iterrows():\n",
    "        listaFrom.append(row['FROM'])\n",
    "        listaTo.append(row['TO'])     \n",
    "    \n",
    "    todosVerticesSemRepeticao = set(listaFrom + listaTo)\n",
    "    # Agora transformo o SET em LIST para pode acessar os indices :) e ordeno, pq o SET bagunça a ordem original\n",
    "    todosVerticesSemRepeticao = sorted(list(todosVerticesSemRepeticao))\n",
    "    \n",
    "    #Cada vertice será uma chave no dic e seus vizinhos serão o valor (lista)\n",
    "    listaAdjacencia = {}\n",
    "    for v in todosVerticesSemRepeticao:\n",
    "        #O vertice pode aparecer na lista FROM e/ou TO. Sempre que ele aparecer tenho que pegar o vertice do outro \"lado\"\n",
    "        #Procuro nas duas listas o vertice atual, qdo acho pego o indice e busco o correspondente na outra lista e guardo como vizinhos\n",
    "        vizinhos = []\n",
    "        for indice in range(0,len(listaFrom)):            \n",
    "            if listaFrom[indice]==v:\n",
    "                vizinhos.append(listaTo[indice])\n",
    "            if listaTo[indice]==v:\n",
    "                vizinhos.append(listaFrom[indice])\n",
    "        listaAdjacencia[v] = vizinhos\n",
    "    \n",
    "    return listaAdjacencia\n",
    "        "
   ]
  },
  {
   "cell_type": "code",
   "execution_count": 12,
   "metadata": {
    "ExecuteTime": {
     "end_time": "2021-02-11T13:53:51.341685Z",
     "start_time": "2021-02-11T13:53:51.337690Z"
    }
   },
   "outputs": [],
   "source": [
    "def getGrauPorVerticeAdjacencia(listaAdjacencia):\n",
    "    #para manter o padrão vou retornar um lista de tupla\n",
    "    retorno = []\n",
    "    for v in listaAdjacencia:\n",
    "        retorno.append((v,len(listaAdjacencia[v])))\n",
    "        \n",
    "    return retorno    "
   ]
  },
  {
   "cell_type": "code",
   "execution_count": 13,
   "metadata": {
    "ExecuteTime": {
     "end_time": "2021-02-11T13:53:51.812984Z",
     "start_time": "2021-02-11T13:53:51.808980Z"
    }
   },
   "outputs": [],
   "source": [
    "def getVizinhosAdjacencia(listaAdjacencia):\n",
    "    #A lista de adjacencia já é uma lista de vizinhos, então fica bem fácil esse\n",
    "    #Vou manter o formado da NX e retornar lista de tupla\n",
    "    retorno = []\n",
    "    for v in listaAdjacencia:\n",
    "        retorno.append((v,listaAdjacencia[v]))\n",
    "        \n",
    "    return retorno  "
   ]
  },
  {
   "cell_type": "code",
   "execution_count": 14,
   "metadata": {
    "ExecuteTime": {
     "end_time": "2021-02-11T13:53:52.291576Z",
     "start_time": "2021-02-11T13:53:52.288571Z"
    }
   },
   "outputs": [],
   "source": [
    "def temArestaAdjacencia(listaAdjacencia,v1,v2):\n",
    "    #verfica se v2 existe nos vizinhos de v1\n",
    "    return (v2 in listaAdjacencia[v1])     "
   ]
  },
  {
   "cell_type": "markdown",
   "metadata": {},
   "source": [
    "<h2>Armazenando em Lista de Adjacencia - Main</h2>"
   ]
  },
  {
   "cell_type": "code",
   "execution_count": 15,
   "metadata": {
    "ExecuteTime": {
     "end_time": "2021-02-11T13:54:06.503478Z",
     "start_time": "2021-02-11T13:54:06.490465Z"
    }
   },
   "outputs": [
    {
     "name": "stdout",
     "output_type": "stream",
     "text": [
      "\n",
      "\n",
      "\n",
      "---- REDE1 ---------------------------\n",
      "A-> ['B']\n",
      "B-> ['A', 'C']\n",
      "C-> ['B', 'D']\n",
      "D-> ['C', 'E']\n",
      "E-> ['D']\n",
      "\n",
      "Graus:  [('A', 1), ('B', 2), ('C', 2), ('D', 2), ('E', 1)]\n",
      "\n",
      " Vizinhos de cada nó\n",
      "[('A', ['B']), ('B', ['A', 'C']), ('C', ['B', 'D']), ('D', ['C', 'E']), ('E', ['D'])]\n",
      "\n",
      " Verificação de aresta A-B e A-D\n",
      "True\n",
      "False\n",
      "\n",
      "\n",
      "\n",
      "---- REDE2 ---------------------------\n",
      "A-> ['B', 'C', 'D']\n",
      "B-> ['A', 'C', 'D']\n",
      "C-> ['A', 'B', 'D']\n",
      "D-> ['A', 'B', 'C', 'E']\n",
      "E-> ['D', 'F']\n",
      "F-> ['E', 'G', 'I']\n",
      "G-> ['F', 'H']\n",
      "H-> ['G', 'I']\n",
      "I-> ['H', 'F']\n",
      "\n",
      "Graus:  [('A', 3), ('B', 3), ('C', 3), ('D', 4), ('E', 2), ('F', 3), ('G', 2), ('H', 2), ('I', 2)]\n",
      "\n",
      " Vizinhos de cada nó\n",
      "[('A', ['B', 'C', 'D']), ('B', ['A', 'C', 'D']), ('C', ['A', 'B', 'D']), ('D', ['A', 'B', 'C', 'E']), ('E', ['D', 'F']), ('F', ['E', 'G', 'I']), ('G', ['F', 'H']), ('H', ['G', 'I']), ('I', ['H', 'F'])]\n",
      "\n",
      " Verificação de aresta A-B e A-D\n",
      "True\n",
      "True\n",
      "\n",
      "\n",
      "\n",
      "---- REDE3 ---------------------------\n",
      "A-> ['B', 'C']\n",
      "B-> ['A', 'C']\n",
      "C-> ['B', 'A']\n",
      "D-> ['E', 'F']\n",
      "E-> ['D', 'F']\n",
      "F-> ['E', 'D']\n",
      "\n",
      "Graus:  [('A', 2), ('B', 2), ('C', 2), ('D', 2), ('E', 2), ('F', 2)]\n",
      "\n",
      " Vizinhos de cada nó\n",
      "[('A', ['B', 'C']), ('B', ['A', 'C']), ('C', ['B', 'A']), ('D', ['E', 'F']), ('E', ['D', 'F']), ('F', ['E', 'D'])]\n",
      "\n",
      " Verificação de aresta A-B e A-D\n",
      "True\n",
      "False\n",
      "\n",
      "\n",
      "\n",
      "---- REDE4 ---------------------------\n",
      "A-> ['B', 'C', 'D', 'E']\n",
      "B-> ['A', 'C', 'D', 'E']\n",
      "C-> ['A', 'B', 'D', 'E']\n",
      "D-> ['A', 'B', 'C', 'E']\n",
      "E-> ['A', 'B', 'C', 'D']\n",
      "\n",
      "Graus:  [('A', 4), ('B', 4), ('C', 4), ('D', 4), ('E', 4)]\n",
      "\n",
      " Vizinhos de cada nó\n",
      "[('A', ['B', 'C', 'D', 'E']), ('B', ['A', 'C', 'D', 'E']), ('C', ['A', 'B', 'D', 'E']), ('D', ['A', 'B', 'C', 'E']), ('E', ['A', 'B', 'C', 'D'])]\n",
      "\n",
      " Verificação de aresta A-B e A-D\n",
      "True\n",
      "True\n"
     ]
    }
   ],
   "source": [
    "#Para Cada lista de aresta (pandas dataframe), chamo a função que cria uma Lista de Adjacência \n",
    "#Armazena todas as listas em um dicionário\n",
    "listaRedesAdjacencia = {}\n",
    "for key in listaAresta:\n",
    "    \n",
    "    listaRedesAdjacencia[key]=deListaArestaParaListaAdjacencia(listaAresta[key])\n",
    "    \n",
    "    print('\\n\\n\\n----',key.upper(),'---------------------------')   \n",
    "    #Imprimi 'normal'\n",
    "    #print(listaRedesAdjacencia[key])\n",
    "    #Pra imprimir bonito\n",
    "    [print(x+'->',listaRedesAdjacencia[key][x]) for x in listaRedesAdjacencia[key]]\n",
    "    \n",
    "    \n",
    "    graus = getGrauPorVerticeAdjacencia(listaRedesAdjacencia[key])\n",
    "    print('\\nGraus: ',graus)  \n",
    "   \n",
    "    print(\"\\n Vizinhos de cada nó\")\n",
    "    vizinhos = getVizinhosAdjacencia(listaRedesAdjacencia[key])\n",
    "    print(vizinhos)\n",
    "    \n",
    "    print(\"\\n Verificação de aresta A-B e A-D\")\n",
    "    temAresta=temArestaAdjacencia(listaRedesAdjacencia[key],\"A\",\"B\")\n",
    "    print(temAresta)\n",
    "    temAresta=temArestaAdjacencia(listaRedesAdjacencia[key],\"A\",\"D\")\n",
    "    print(temAresta)"
   ]
  },
  {
   "cell_type": "markdown",
   "metadata": {},
   "source": [
    "<h2>Armazenando em Lista de Arestas - Funções</h2>"
   ]
  },
  {
   "cell_type": "code",
   "execution_count": 16,
   "metadata": {
    "ExecuteTime": {
     "end_time": "2021-02-11T13:54:19.800645Z",
     "start_time": "2021-02-11T13:54:19.795641Z"
    }
   },
   "outputs": [],
   "source": [
    "def deListaArestaParaListaAresta(pandasListaAres):\n",
    "    #O processo aqui vai ser percorrer o dataframe e colocar cada linha em uma lista de tupla\n",
    "    listaAresta=[]\n",
    "    for index, row in pandasListaAres.iterrows():\n",
    "        v1 = row['FROM']\n",
    "        v2 = row['TO']\n",
    "        aresta=(v1,v2)\n",
    "        listaAresta.append(aresta)\n",
    "        \n",
    "    return listaAresta\n",
    "    "
   ]
  },
  {
   "cell_type": "code",
   "execution_count": 17,
   "metadata": {
    "ExecuteTime": {
     "end_time": "2021-02-11T13:54:20.930205Z",
     "start_time": "2021-02-11T13:54:20.924199Z"
    }
   },
   "outputs": [],
   "source": [
    "def getGrauPorVerticeAresta(listaArestas):\n",
    "    retorno = []\n",
    "    listaFrom =[]\n",
    "    listaTo =[]\n",
    "    \n",
    "    #A primeira coisa é encontrar todos os vertices que existem. Tenho que 'olhar' os dois lados da aresta    \n",
    "    for aresta in listaArestas:\n",
    "        listaFrom.append(aresta[0])\n",
    "        listaTo.append(aresta[1])\n",
    "    \n",
    "    semRepeticao = set(listaFrom+listaTo)\n",
    "    semRepeticao = sorted(semRepeticao)\n",
    "    \n",
    "    #Verifica qta vezes cada vertice aparece na lista de aresta    \n",
    "    for v in semRepeticao:\n",
    "        qtdeAresta = 0\n",
    "        for aresta in listaArestas:\n",
    "            if aresta[0] == v or aresta[1] == v:\n",
    "                qtdeAresta+=1\n",
    "        retorno.append((v,qtdeAresta))\n",
    "            \n",
    "    \n",
    "    return retorno"
   ]
  },
  {
   "cell_type": "code",
   "execution_count": 18,
   "metadata": {
    "ExecuteTime": {
     "end_time": "2021-02-11T13:54:22.913849Z",
     "start_time": "2021-02-11T13:54:22.907854Z"
    }
   },
   "outputs": [],
   "source": [
    "def getVizinhosAresta(listaArestas):\n",
    "    retorno = []\n",
    "    listaFrom =[]\n",
    "    listaTo =[]\n",
    "    \n",
    "    #A primeira coisa é encontrar todos os vertices que existem. Tenho que 'olhar' os dois lados da aresta    \n",
    "    for aresta in listaArestas:\n",
    "        listaFrom.append(aresta[0])\n",
    "        listaTo.append(aresta[1])\n",
    "    \n",
    "    semRepeticao = set(listaFrom+listaTo)\n",
    "    semRepeticao = sorted(semRepeticao)\n",
    "    \n",
    "    #Para cada vez que o vertice aparece na lista de aresta, pego o vertice 'do outro lado'    \n",
    "    for v in semRepeticao:\n",
    "        vizinhos = []\n",
    "        for aresta in listaArestas:\n",
    "            if aresta[0] == v: \n",
    "                vizinhos.append(aresta[1])\n",
    "            if aresta[1] == v: \n",
    "                vizinhos.append(aresta[0])\n",
    "        retorno.append((v,vizinhos))\n",
    "            \n",
    "    \n",
    "    return retorno"
   ]
  },
  {
   "cell_type": "code",
   "execution_count": 19,
   "metadata": {
    "ExecuteTime": {
     "end_time": "2021-02-11T13:54:24.591282Z",
     "start_time": "2021-02-11T13:54:24.587266Z"
    }
   },
   "outputs": [],
   "source": [
    "def temArestaListaAresta(listaArestas,v1,v2):\n",
    "    #Cada item na lista é uma resta, só precisa encontrar. Lembrando que estamos em um grafo não direcionado. Logo tem que olhar dos dois lados\n",
    "    for aresta in listaArestas:\n",
    "        #O v1 pode estar em qualquer um dos dados da aresta\n",
    "        if (v1 in aresta and v2 in aresta):\n",
    "            return True\n",
    "    \n",
    "    return False"
   ]
  },
  {
   "cell_type": "markdown",
   "metadata": {},
   "source": [
    "<h2>Armazenando em Lista de Arestas - Main</h2>"
   ]
  },
  {
   "cell_type": "code",
   "execution_count": 21,
   "metadata": {
    "ExecuteTime": {
     "end_time": "2021-02-11T13:55:06.316243Z",
     "start_time": "2021-02-11T13:55:06.303231Z"
    },
    "scrolled": false
   },
   "outputs": [
    {
     "name": "stdout",
     "output_type": "stream",
     "text": [
      "\n",
      "\n",
      "\n",
      "---- REDE1 ---------------------------\n",
      "[('A', 'B'), ('B', 'C'), ('C', 'D'), ('D', 'E')]\n",
      "\n",
      "Graus:  [('A', 1), ('B', 2), ('C', 2), ('D', 2), ('E', 1)]\n",
      "\n",
      "Vizinhos de cada nó\n",
      "[('A', ['B']), ('B', ['A', 'C']), ('C', ['B', 'D']), ('D', ['C', 'E']), ('E', ['D'])]\n",
      "\n",
      "Verificação de aresta A-B e A-D\n",
      "True\n",
      "False\n",
      "\n",
      "\n",
      "\n",
      "---- REDE2 ---------------------------\n",
      "[('A', 'B'), ('A', 'C'), ('A', 'D'), ('B', 'C'), ('B', 'D'), ('C', 'D'), ('D', 'E'), ('E', 'F'), ('F', 'G'), ('G', 'H'), ('H', 'I'), ('F', 'I')]\n",
      "\n",
      "Graus:  [('A', 3), ('B', 3), ('C', 3), ('D', 4), ('E', 2), ('F', 3), ('G', 2), ('H', 2), ('I', 2)]\n",
      "\n",
      "Vizinhos de cada nó\n",
      "[('A', ['B', 'C', 'D']), ('B', ['A', 'C', 'D']), ('C', ['A', 'B', 'D']), ('D', ['A', 'B', 'C', 'E']), ('E', ['D', 'F']), ('F', ['E', 'G', 'I']), ('G', ['F', 'H']), ('H', ['G', 'I']), ('I', ['H', 'F'])]\n",
      "\n",
      "Verificação de aresta A-B e A-D\n",
      "True\n",
      "True\n",
      "\n",
      "\n",
      "\n",
      "---- REDE3 ---------------------------\n",
      "[('A', 'B'), ('B', 'C'), ('C', 'A'), ('D', 'E'), ('E', 'F'), ('F', 'D')]\n",
      "\n",
      "Graus:  [('A', 2), ('B', 2), ('C', 2), ('D', 2), ('E', 2), ('F', 2)]\n",
      "\n",
      "Vizinhos de cada nó\n",
      "[('A', ['B', 'C']), ('B', ['A', 'C']), ('C', ['B', 'A']), ('D', ['E', 'F']), ('E', ['D', 'F']), ('F', ['E', 'D'])]\n",
      "\n",
      "Verificação de aresta A-B e A-D\n",
      "True\n",
      "False\n",
      "\n",
      "\n",
      "\n",
      "---- REDE4 ---------------------------\n",
      "[('A', 'B'), ('A', 'C'), ('A', 'D'), ('A', 'E'), ('B', 'C'), ('B', 'D'), ('B', 'E'), ('C', 'D'), ('C', 'E'), ('D', 'E')]\n",
      "\n",
      "Graus:  [('A', 4), ('B', 4), ('C', 4), ('D', 4), ('E', 4)]\n",
      "\n",
      "Vizinhos de cada nó\n",
      "[('A', ['B', 'C', 'D', 'E']), ('B', ['A', 'C', 'D', 'E']), ('C', ['A', 'B', 'D', 'E']), ('D', ['A', 'B', 'C', 'E']), ('E', ['A', 'B', 'C', 'D'])]\n",
      "\n",
      "Verificação de aresta A-B e A-D\n",
      "True\n",
      "True\n"
     ]
    }
   ],
   "source": [
    "#Para Cada lista de aresta (pandas dataframe), chamo a função que cria uma Lista de Aresta, porém sem ser no dataframe \n",
    "#Armazena todas as listas em um dicionário\n",
    "listaRedesArestas = {}\n",
    "for key in listaAresta:\n",
    "    \n",
    "    listaRedesArestas[key]=deListaArestaParaListaAresta(listaAresta[key])\n",
    "    \n",
    "    print('\\n\\n\\n----',key.upper(),'---------------------------')   \n",
    "    #Imprimi 'normal'\n",
    "    print(listaRedesArestas[key])\n",
    "    #Pra imprimir bonito\n",
    "    #[print(x+'->',listaRedesArestas[key][x]) for x in listaRedesArestas[key]]    \n",
    "    \n",
    "    graus = getGrauPorVerticeAresta(listaRedesArestas[key])\n",
    "    print('\\nGraus: ',graus)  \n",
    "   \n",
    "    print(\"\\nVizinhos de cada nó\")\n",
    "    vizinhos = getVizinhosAresta(listaRedesArestas[key])\n",
    "    print(vizinhos)\n",
    "    \n",
    "    print(\"\\nVerificação de aresta A-B e A-D\")\n",
    "    temAresta=temArestaListaAresta(listaRedesArestas[key],\"A\",\"B\")\n",
    "    print(temAresta)\n",
    "    temAresta=temArestaListaAresta(listaRedesArestas[key],\"A\",\"D\")\n",
    "    print(temAresta)"
   ]
  }
 ],
 "metadata": {
  "kernelspec": {
   "display_name": "Python 3",
   "language": "python",
   "name": "python3"
  },
  "language_info": {
   "codemirror_mode": {
    "name": "ipython",
    "version": 3
   },
   "file_extension": ".py",
   "mimetype": "text/x-python",
   "name": "python",
   "nbconvert_exporter": "python",
   "pygments_lexer": "ipython3",
   "version": "3.7.7"
  },
  "toc": {
   "base_numbering": 1,
   "nav_menu": {},
   "number_sections": true,
   "sideBar": true,
   "skip_h1_title": false,
   "title_cell": "Table of Contents",
   "title_sidebar": "Contents",
   "toc_cell": false,
   "toc_position": {
    "height": "calc(100% - 180px)",
    "left": "10px",
    "top": "150px",
    "width": "364.006px"
   },
   "toc_section_display": true,
   "toc_window_display": true
  },
  "varInspector": {
   "cols": {
    "lenName": 16,
    "lenType": 16,
    "lenVar": 40
   },
   "kernels_config": {
    "python": {
     "delete_cmd_postfix": "",
     "delete_cmd_prefix": "del ",
     "library": "var_list.py",
     "varRefreshCmd": "print(var_dic_list())"
    },
    "r": {
     "delete_cmd_postfix": ") ",
     "delete_cmd_prefix": "rm(",
     "library": "var_list.r",
     "varRefreshCmd": "cat(var_dic_list()) "
    }
   },
   "types_to_exclude": [
    "module",
    "function",
    "builtin_function_or_method",
    "instance",
    "_Feature"
   ],
   "window_display": false
  }
 },
 "nbformat": 4,
 "nbformat_minor": 2
}
